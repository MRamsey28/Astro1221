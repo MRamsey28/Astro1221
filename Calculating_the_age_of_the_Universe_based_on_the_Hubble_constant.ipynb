{
  "nbformat": 4,
  "nbformat_minor": 0,
  "metadata": {
    "colab": {
      "provenance": [],
      "authorship_tag": "ABX9TyPo2AhtCtlBJnAqlmCOoA9N",
      "include_colab_link": true
    },
    "kernelspec": {
      "name": "python3",
      "display_name": "Python 3"
    },
    "language_info": {
      "name": "python"
    }
  },
  "cells": [
    {
      "cell_type": "markdown",
      "metadata": {
        "id": "view-in-github",
        "colab_type": "text"
      },
      "source": [
        "<a href=\"https://colab.research.google.com/github/MRamsey28/Astro1221/blob/main/Calculating_the_age_of_the_Universe_based_on_the_Hubble_constant.ipynb\" target=\"_parent\"><img src=\"https://colab.research.google.com/assets/colab-badge.svg\" alt=\"Open In Colab\"/></a>"
      ]
    },
    {
      "cell_type": "code",
      "execution_count": 2,
      "metadata": {
        "id": "mPEz9kxCDFGp"
      },
      "outputs": [],
      "source": [
        "import astropy.units as u\n",
        "import astropy.constants as ac\n",
        "import matplotlib.pyplot as plt\n",
        "import numpy as np"
      ]
    },
    {
      "cell_type": "code",
      "source": [
        "d= (1 * u.Mpc)\n",
        "v= (70 * u.km / u.s).to(u.Mpc / u.s)\n",
        "t=(d/v).to(u.Gyr)\n",
        "print(t)"
      ],
      "metadata": {
        "colab": {
          "base_uri": "https://localhost:8080/"
        },
        "id": "E4IGfgnPDlnR",
        "outputId": "bd4ae6c5-52d8-4786-f579-745532878e22"
      },
      "execution_count": 25,
      "outputs": [
        {
          "output_type": "stream",
          "name": "stdout",
          "text": [
            "13.968460309725561 Gyr\n"
          ]
        }
      ]
    },
    {
      "cell_type": "markdown",
      "source": [
        "1.39x10^10 years\n",
        "13.9 Gry"
      ],
      "metadata": {
        "id": "pWaHHtXeEWNa"
      }
    }
  ]
}