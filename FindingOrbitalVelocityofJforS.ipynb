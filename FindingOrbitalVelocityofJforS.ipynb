{
  "nbformat": 4,
  "nbformat_minor": 0,
  "metadata": {
    "colab": {
      "provenance": [],
      "authorship_tag": "ABX9TyMjYbyxLHm2b7hiISbY+76A",
      "include_colab_link": true
    },
    "kernelspec": {
      "name": "python3",
      "display_name": "Python 3"
    },
    "language_info": {
      "name": "python"
    }
  },
  "cells": [
    {
      "cell_type": "markdown",
      "metadata": {
        "id": "view-in-github",
        "colab_type": "text"
      },
      "source": [
        "<a href=\"https://colab.research.google.com/github/MRamsey28/Astro1221/blob/main/FindingOrbitalVelocityofJforS.ipynb\" target=\"_parent\"><img src=\"https://colab.research.google.com/assets/colab-badge.svg\" alt=\"Open In Colab\"/></a>"
      ]
    },
    {
      "cell_type": "markdown",
      "source": [
        "$V=\\sqrt\\frac{GM}{R}$, this is the equation that we use to calculate orbital velocity\n",
        "\n"
      ],
      "metadata": {
        "id": "iXWx0vDJ4F4L"
      }
    },
    {
      "cell_type": "code",
      "execution_count": 3,
      "metadata": {
        "id": "8rXxF_9D36Aj"
      },
      "outputs": [],
      "source": [
        "import astropy.constants as const # import a Python package to call the value of certain constants\n",
        "import astropy.units as u #import a python package to call certain units,e.g.,the mass of the Sun."
      ]
    },
    {
      "cell_type": "code",
      "source": [
        "M = 1 * u.solMass #defining M as a physical quanity with a value and a unit (mass of the sun)\n",
        "print(M.to(u.kg)) #print out M in unit of kilogram"
      ],
      "metadata": {
        "colab": {
          "base_uri": "https://localhost:8080/"
        },
        "id": "R33LUCSS6P3O",
        "outputId": "a88fc73e-d120-4198-f643-1a2b66737e4a"
      },
      "execution_count": 7,
      "outputs": [
        {
          "output_type": "stream",
          "name": "stdout",
          "text": [
            "1.988409870698051e+30 kg\n"
          ]
        }
      ]
    },
    {
      "cell_type": "code",
      "source": [
        "R = 1 * u.au #defining R as the Earth's orbital radius around the Sun in astronoical unit\n",
        "print(R.to(u.km)) #print out R in unit of kilometer"
      ],
      "metadata": {
        "colab": {
          "base_uri": "https://localhost:8080/"
        },
        "id": "eWiAsgo-6SzN",
        "outputId": "47c77350-738b-4701-ca74-20bdb75ec7e7"
      },
      "execution_count": 18,
      "outputs": [
        {
          "output_type": "stream",
          "name": "stdout",
          "text": [
            "149597870.7 km\n"
          ]
        }
      ]
    },
    {
      "cell_type": "code",
      "source": [
        "G = const.G #defining G as the gravitational constant\n",
        "print(G.si) #print out G in the International System of Units (si)"
      ],
      "metadata": {
        "colab": {
          "base_uri": "https://localhost:8080/"
        },
        "id": "Fm9yVXhL7FVN",
        "outputId": "85f75c63-0662-4c24-8a2a-012a0cccb995"
      },
      "execution_count": 12,
      "outputs": [
        {
          "output_type": "stream",
          "name": "stdout",
          "text": [
            "  Name   = Gravitational constant\n",
            "  Value  = 6.6743e-11\n",
            "  Uncertainty  = 1.5e-15\n",
            "  Unit  = m3 / (kg s2)\n",
            "  Reference = CODATA 2018\n"
          ]
        }
      ]
    },
    {
      "cell_type": "code",
      "source": [
        "import numpy as np #imports numpty, which allows up to use mathematical operations for the defined quantities"
      ],
      "metadata": {
        "id": "CGUZgoei8uyd"
      },
      "execution_count": 14,
      "outputs": []
    },
    {
      "cell_type": "code",
      "source": [
        "V = np.sqrt(G * M / R) #Calculating the orbital velocity using units found and the equation from the begining\n",
        "print(V.to(u.km/u.s)) #printing the orbital velocity of the Earch around the sun in km/s"
      ],
      "metadata": {
        "colab": {
          "base_uri": "https://localhost:8080/"
        },
        "id": "6kaREYtP8uZE",
        "outputId": "9bd97bd6-9506-4dc0-c0bc-96d191025a1c"
      },
      "execution_count": 19,
      "outputs": [
        {
          "output_type": "stream",
          "name": "stdout",
          "text": [
            "29.784691829676934 km / s\n"
          ]
        }
      ]
    },
    {
      "cell_type": "code",
      "source": [
        "R_Jupiter = 5.2 * u.au #defining R_Jupiter as the orbital radius of Jupiter in astronomical units\n",
        "print(R_Jupiter.to(u.km)) #printing R_Jupiter in kilometers"
      ],
      "metadata": {
        "colab": {
          "base_uri": "https://localhost:8080/"
        },
        "id": "FA2Icm8S_rBC",
        "outputId": "35204ae3-8b8d-4949-a26e-d34836ff78b6"
      },
      "execution_count": 20,
      "outputs": [
        {
          "output_type": "stream",
          "name": "stdout",
          "text": [
            "777908927.64 km\n"
          ]
        }
      ]
    },
    {
      "cell_type": "code",
      "source": [
        "v_Jupiter = np.sqrt(G * M / R_Jupiter) #calculating the orbital velocity of Jupiter in km/s\n",
        "print(v_Jupiter.to(u.km/u.s)) #print out the orbital velocity of Jupiter around the Sun"
      ],
      "metadata": {
        "colab": {
          "base_uri": "https://localhost:8080/"
        },
        "id": "kPrBYrlJ_qnq",
        "outputId": "bac8d7bd-f16e-4947-b15b-1ef033c0cece"
      },
      "execution_count": 21,
      "outputs": [
        {
          "output_type": "stream",
          "name": "stdout",
          "text": [
            "13.061451410903354 km / s\n"
          ]
        }
      ]
    }
  ]
}