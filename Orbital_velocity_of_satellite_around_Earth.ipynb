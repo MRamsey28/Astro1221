{
  "nbformat": 4,
  "nbformat_minor": 0,
  "metadata": {
    "colab": {
      "provenance": [],
      "authorship_tag": "ABX9TyONToffYGWExqkkSR2jTfKz",
      "include_colab_link": true
    },
    "kernelspec": {
      "name": "python3",
      "display_name": "Python 3"
    },
    "language_info": {
      "name": "python"
    }
  },
  "cells": [
    {
      "cell_type": "markdown",
      "metadata": {
        "id": "view-in-github",
        "colab_type": "text"
      },
      "source": [
        "<a href=\"https://colab.research.google.com/github/MRamsey28/Astro1221/blob/main/Orbital_velocity_of_satellite_around_Earth.ipynb\" target=\"_parent\"><img src=\"https://colab.research.google.com/assets/colab-badge.svg\" alt=\"Open In Colab\"/></a>"
      ]
    },
    {
      "cell_type": "markdown",
      "source": [
        "$V=\\sqrt\\frac{GM}{R}$, this is the equation that we use to calculate orbital velocity\n"
      ],
      "metadata": {
        "id": "jiDlNAfpLRck"
      }
    },
    {
      "cell_type": "code",
      "execution_count": null,
      "metadata": {
        "id": "CuirENivJGwH"
      },
      "outputs": [],
      "source": [
        "import astropy.constants as const # import a Python package to call the value of certain constants\n",
        "import astropy.units as u #import a python package to call certain units,e.g.,the mass of the Sun.\n",
        "import numpy as np #imports numpty, which allows up to use mathematical operations for the defined quantities"
      ]
    },
    {
      "cell_type": "code",
      "source": [
        "M = 1 * u.earthMass #defining M as a physical quanity with a value and a unit (mass of the Earth)\n",
        "print(M.to(u.kg)) #print out M in unit of kilogram"
      ],
      "metadata": {
        "colab": {
          "base_uri": "https://localhost:8080/"
        },
        "id": "sEkbj-CwJWhw",
        "outputId": "00a5dade-317a-4d46-e5ac-7c7d40b6e8fb"
      },
      "execution_count": null,
      "outputs": [
        {
          "output_type": "stream",
          "name": "stdout",
          "text": [
            "5.972167867791379e+24 kg\n"
          ]
        }
      ]
    },
    {
      "cell_type": "code",
      "source": [
        "R = 1 * u.earthRad #defining R as the satellite's orbital radius around the Earth in astronoical unit\n",
        "print(R.to(u.km)) #print out R in unit of kilometer"
      ],
      "metadata": {
        "colab": {
          "base_uri": "https://localhost:8080/"
        },
        "id": "K5sur6ssJWbS",
        "outputId": "46e006fb-697f-4f43-9c98-1be625b4f84c"
      },
      "execution_count": null,
      "outputs": [
        {
          "output_type": "stream",
          "name": "stdout",
          "text": [
            "6378.1 km\n"
          ]
        }
      ]
    },
    {
      "cell_type": "code",
      "source": [
        "G = const.G #defining G as the gravitational constant\n",
        "print(G.si) #print out G in the International System of Units (si)"
      ],
      "metadata": {
        "colab": {
          "base_uri": "https://localhost:8080/"
        },
        "id": "DZ8MmMmvJWSU",
        "outputId": "77d7ca5e-d242-4aa6-8b0e-ea6859757ef5"
      },
      "execution_count": null,
      "outputs": [
        {
          "output_type": "stream",
          "name": "stdout",
          "text": [
            "  Name   = Gravitational constant\n",
            "  Value  = 6.6743e-11\n",
            "  Uncertainty  = 1.5e-15\n",
            "  Unit  = m3 / (kg s2)\n",
            "  Reference = CODATA 2018\n"
          ]
        }
      ]
    },
    {
      "cell_type": "code",
      "source": [
        "V = np.sqrt(G * M / R) #Calculating the orbital velocity using units found and the equation from the begining\n",
        "print(V.to(u.km/u.s)) #printing the orbital velocity of the Earch around the sun in km/s"
      ],
      "metadata": {
        "colab": {
          "base_uri": "https://localhost:8080/"
        },
        "id": "aIlvF7JHLe8K",
        "outputId": "6916c0e9-02db-42f6-9caa-3f509714b439"
      },
      "execution_count": null,
      "outputs": [
        {
          "output_type": "stream",
          "name": "stdout",
          "text": [
            "7.905388234385281 km / s\n"
          ]
        }
      ]
    }
  ]
}