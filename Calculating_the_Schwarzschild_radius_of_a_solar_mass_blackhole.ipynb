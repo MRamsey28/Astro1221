{
  "nbformat": 4,
  "nbformat_minor": 0,
  "metadata": {
    "colab": {
      "provenance": [],
      "authorship_tag": "ABX9TyNKNEDFvFQZdHT4uGjK6Vkk",
      "include_colab_link": true
    },
    "kernelspec": {
      "name": "python3",
      "display_name": "Python 3"
    },
    "language_info": {
      "name": "python"
    }
  },
  "cells": [
    {
      "cell_type": "markdown",
      "metadata": {
        "id": "view-in-github",
        "colab_type": "text"
      },
      "source": [
        "<a href=\"https://colab.research.google.com/github/MRamsey28/Astro1221/blob/main/Calculating_the_Schwarzschild_radius_of_a_solar_mass_blackhole.ipynb\" target=\"_parent\"><img src=\"https://colab.research.google.com/assets/colab-badge.svg\" alt=\"Open In Colab\"/></a>"
      ]
    },
    {
      "cell_type": "markdown",
      "source": [
        "$V=\\sqrt\\frac{GM}{R}$, this is the equation that we use to calculate orbital velocity"
      ],
      "metadata": {
        "id": "CPe0GpkaLuzL"
      }
    },
    {
      "cell_type": "code",
      "execution_count": null,
      "metadata": {
        "id": "30wO-GLWLlDz"
      },
      "outputs": [],
      "source": [
        "import astropy.constants as const # import a Python package to call the value of certain constants\n",
        "import astropy.units as u #import a python package to call certain units,e.g.,the mass of the Sun.\n",
        "import numpy as np #imports numpty, which allows up to use mathematical operations for the defined quantities"
      ]
    },
    {
      "cell_type": "code",
      "source": [
        "M = 1 * u.solMass #defining M as a physical quanity with a value and a unit (mass of the Black hole)\n",
        "print(M.to(u.kg)) #print out M in unit of kilogram"
      ],
      "metadata": {
        "colab": {
          "base_uri": "https://localhost:8080/"
        },
        "id": "HS4a7F9ZLs3m",
        "outputId": "c0a387c9-b522-4e41-f37e-3fc348dcea27"
      },
      "execution_count": null,
      "outputs": [
        {
          "output_type": "stream",
          "name": "stdout",
          "text": [
            "1.988409870698051e+30 kg\n"
          ]
        }
      ]
    },
    {
      "cell_type": "code",
      "source": [
        "G = const.G #defining G as the gravitational constant\n",
        "print(G.si) #print out G in the International System of Units (si)"
      ],
      "metadata": {
        "colab": {
          "base_uri": "https://localhost:8080/"
        },
        "id": "9TD-ufNqMZw8",
        "outputId": "3906c004-fb84-4422-acff-70443d787a05"
      },
      "execution_count": null,
      "outputs": [
        {
          "output_type": "stream",
          "name": "stdout",
          "text": [
            "  Name   = Gravitational constant\n",
            "  Value  = 6.6743e-11\n",
            "  Uncertainty  = 1.5e-15\n",
            "  Unit  = m3 / (kg s2)\n",
            "  Reference = CODATA 2018\n"
          ]
        }
      ]
    },
    {
      "cell_type": "code",
      "source": [
        "R = ((G * M)/const.c**2) #Calculating the orbital radius using units found and the equation from the begining\n",
        "print(R.to(u.km)) #printing the orbital radius of the black hole"
      ],
      "metadata": {
        "colab": {
          "base_uri": "https://localhost:8080/"
        },
        "id": "XcRHdH8SMbgY",
        "outputId": "c511cef7-b0fc-4385-9be2-dd280d927645"
      },
      "execution_count": null,
      "outputs": [
        {
          "output_type": "stream",
          "name": "stdout",
          "text": [
            "1.476625038050125 km\n"
          ]
        }
      ]
    }
  ]
}