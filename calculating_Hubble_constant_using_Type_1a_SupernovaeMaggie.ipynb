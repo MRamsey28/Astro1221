{
  "nbformat": 4,
  "nbformat_minor": 0,
  "metadata": {
    "colab": {
      "provenance": [],
      "authorship_tag": "ABX9TyP5MPLMCP+a6WDpGXgmChsC",
      "include_colab_link": true
    },
    "kernelspec": {
      "name": "python3",
      "display_name": "Python 3"
    },
    "language_info": {
      "name": "python"
    }
  },
  "cells": [
    {
      "cell_type": "markdown",
      "metadata": {
        "id": "view-in-github",
        "colab_type": "text"
      },
      "source": [
        "<a href=\"https://colab.research.google.com/github/MRamsey28/Astro1221/blob/main/calculating_Hubble_constant_using_Type_1a_SupernovaeMaggie.ipynb\" target=\"_parent\"><img src=\"https://colab.research.google.com/assets/colab-badge.svg\" alt=\"Open In Colab\"/></a>"
      ]
    },
    {
      "cell_type": "code",
      "execution_count": 2,
      "metadata": {
        "id": "UAXMaAmOY4pl"
      },
      "outputs": [],
      "source": [
        "import numpy as np #importing packages necessary to complete the code\n",
        "import matplotlib.pyplot as plt\n",
        "import astropy.io.ascii\n",
        "import astropy.units as u\n",
        "import astropy.constants as ac"
      ]
    },
    {
      "cell_type": "code",
      "source": [
        "from google.colab import files #importing the file we need to download and plot the data we will be using\n",
        "uploaded = files.upload()"
      ],
      "metadata": {
        "colab": {
          "base_uri": "https://localhost:8080/",
          "height": 74
        },
        "id": "BA82K0xUZZk1",
        "outputId": "2630d5f7-33db-4379-f4a4-d9dd9084788e"
      },
      "execution_count": 3,
      "outputs": [
        {
          "output_type": "display_data",
          "data": {
            "text/plain": [
              "<IPython.core.display.HTML object>"
            ],
            "text/html": [
              "\n",
              "     <input type=\"file\" id=\"files-0fd55d10-8543-4997-8960-ae8999052275\" name=\"files[]\" multiple disabled\n",
              "        style=\"border:none\" />\n",
              "     <output id=\"result-0fd55d10-8543-4997-8960-ae8999052275\">\n",
              "      Upload widget is only available when the cell has been executed in the\n",
              "      current browser session. Please rerun this cell to enable.\n",
              "      </output>\n",
              "      <script>// Copyright 2017 Google LLC\n",
              "//\n",
              "// Licensed under the Apache License, Version 2.0 (the \"License\");\n",
              "// you may not use this file except in compliance with the License.\n",
              "// You may obtain a copy of the License at\n",
              "//\n",
              "//      http://www.apache.org/licenses/LICENSE-2.0\n",
              "//\n",
              "// Unless required by applicable law or agreed to in writing, software\n",
              "// distributed under the License is distributed on an \"AS IS\" BASIS,\n",
              "// WITHOUT WARRANTIES OR CONDITIONS OF ANY KIND, either express or implied.\n",
              "// See the License for the specific language governing permissions and\n",
              "// limitations under the License.\n",
              "\n",
              "/**\n",
              " * @fileoverview Helpers for google.colab Python module.\n",
              " */\n",
              "(function(scope) {\n",
              "function span(text, styleAttributes = {}) {\n",
              "  const element = document.createElement('span');\n",
              "  element.textContent = text;\n",
              "  for (const key of Object.keys(styleAttributes)) {\n",
              "    element.style[key] = styleAttributes[key];\n",
              "  }\n",
              "  return element;\n",
              "}\n",
              "\n",
              "// Max number of bytes which will be uploaded at a time.\n",
              "const MAX_PAYLOAD_SIZE = 100 * 1024;\n",
              "\n",
              "function _uploadFiles(inputId, outputId) {\n",
              "  const steps = uploadFilesStep(inputId, outputId);\n",
              "  const outputElement = document.getElementById(outputId);\n",
              "  // Cache steps on the outputElement to make it available for the next call\n",
              "  // to uploadFilesContinue from Python.\n",
              "  outputElement.steps = steps;\n",
              "\n",
              "  return _uploadFilesContinue(outputId);\n",
              "}\n",
              "\n",
              "// This is roughly an async generator (not supported in the browser yet),\n",
              "// where there are multiple asynchronous steps and the Python side is going\n",
              "// to poll for completion of each step.\n",
              "// This uses a Promise to block the python side on completion of each step,\n",
              "// then passes the result of the previous step as the input to the next step.\n",
              "function _uploadFilesContinue(outputId) {\n",
              "  const outputElement = document.getElementById(outputId);\n",
              "  const steps = outputElement.steps;\n",
              "\n",
              "  const next = steps.next(outputElement.lastPromiseValue);\n",
              "  return Promise.resolve(next.value.promise).then((value) => {\n",
              "    // Cache the last promise value to make it available to the next\n",
              "    // step of the generator.\n",
              "    outputElement.lastPromiseValue = value;\n",
              "    return next.value.response;\n",
              "  });\n",
              "}\n",
              "\n",
              "/**\n",
              " * Generator function which is called between each async step of the upload\n",
              " * process.\n",
              " * @param {string} inputId Element ID of the input file picker element.\n",
              " * @param {string} outputId Element ID of the output display.\n",
              " * @return {!Iterable<!Object>} Iterable of next steps.\n",
              " */\n",
              "function* uploadFilesStep(inputId, outputId) {\n",
              "  const inputElement = document.getElementById(inputId);\n",
              "  inputElement.disabled = false;\n",
              "\n",
              "  const outputElement = document.getElementById(outputId);\n",
              "  outputElement.innerHTML = '';\n",
              "\n",
              "  const pickedPromise = new Promise((resolve) => {\n",
              "    inputElement.addEventListener('change', (e) => {\n",
              "      resolve(e.target.files);\n",
              "    });\n",
              "  });\n",
              "\n",
              "  const cancel = document.createElement('button');\n",
              "  inputElement.parentElement.appendChild(cancel);\n",
              "  cancel.textContent = 'Cancel upload';\n",
              "  const cancelPromise = new Promise((resolve) => {\n",
              "    cancel.onclick = () => {\n",
              "      resolve(null);\n",
              "    };\n",
              "  });\n",
              "\n",
              "  // Wait for the user to pick the files.\n",
              "  const files = yield {\n",
              "    promise: Promise.race([pickedPromise, cancelPromise]),\n",
              "    response: {\n",
              "      action: 'starting',\n",
              "    }\n",
              "  };\n",
              "\n",
              "  cancel.remove();\n",
              "\n",
              "  // Disable the input element since further picks are not allowed.\n",
              "  inputElement.disabled = true;\n",
              "\n",
              "  if (!files) {\n",
              "    return {\n",
              "      response: {\n",
              "        action: 'complete',\n",
              "      }\n",
              "    };\n",
              "  }\n",
              "\n",
              "  for (const file of files) {\n",
              "    const li = document.createElement('li');\n",
              "    li.append(span(file.name, {fontWeight: 'bold'}));\n",
              "    li.append(span(\n",
              "        `(${file.type || 'n/a'}) - ${file.size} bytes, ` +\n",
              "        `last modified: ${\n",
              "            file.lastModifiedDate ? file.lastModifiedDate.toLocaleDateString() :\n",
              "                                    'n/a'} - `));\n",
              "    const percent = span('0% done');\n",
              "    li.appendChild(percent);\n",
              "\n",
              "    outputElement.appendChild(li);\n",
              "\n",
              "    const fileDataPromise = new Promise((resolve) => {\n",
              "      const reader = new FileReader();\n",
              "      reader.onload = (e) => {\n",
              "        resolve(e.target.result);\n",
              "      };\n",
              "      reader.readAsArrayBuffer(file);\n",
              "    });\n",
              "    // Wait for the data to be ready.\n",
              "    let fileData = yield {\n",
              "      promise: fileDataPromise,\n",
              "      response: {\n",
              "        action: 'continue',\n",
              "      }\n",
              "    };\n",
              "\n",
              "    // Use a chunked sending to avoid message size limits. See b/62115660.\n",
              "    let position = 0;\n",
              "    do {\n",
              "      const length = Math.min(fileData.byteLength - position, MAX_PAYLOAD_SIZE);\n",
              "      const chunk = new Uint8Array(fileData, position, length);\n",
              "      position += length;\n",
              "\n",
              "      const base64 = btoa(String.fromCharCode.apply(null, chunk));\n",
              "      yield {\n",
              "        response: {\n",
              "          action: 'append',\n",
              "          file: file.name,\n",
              "          data: base64,\n",
              "        },\n",
              "      };\n",
              "\n",
              "      let percentDone = fileData.byteLength === 0 ?\n",
              "          100 :\n",
              "          Math.round((position / fileData.byteLength) * 100);\n",
              "      percent.textContent = `${percentDone}% done`;\n",
              "\n",
              "    } while (position < fileData.byteLength);\n",
              "  }\n",
              "\n",
              "  // All done.\n",
              "  yield {\n",
              "    response: {\n",
              "      action: 'complete',\n",
              "    }\n",
              "  };\n",
              "}\n",
              "\n",
              "scope.google = scope.google || {};\n",
              "scope.google.colab = scope.google.colab || {};\n",
              "scope.google.colab._files = {\n",
              "  _uploadFiles,\n",
              "  _uploadFilesContinue,\n",
              "};\n",
              "})(self);\n",
              "</script> "
            ]
          },
          "metadata": {}
        },
        {
          "output_type": "stream",
          "name": "stdout",
          "text": [
            "Saving Tonry_2003.vot to Tonry_2003.vot\n"
          ]
        }
      ]
    },
    {
      "cell_type": "code",
      "source": [
        "dat = astropy.io.ascii.read(\"Tonry_2003.vot\") #defining the data in the document we downloaded\n",
        "print(dat) #printing to see what the data is"
      ],
      "metadata": {
        "colab": {
          "base_uri": "https://localhost:8080/"
        },
        "id": "T-Ysf9S6ZZ2r",
        "outputId": "87ed0f1a-d2f8-487a-995b-3556bc25831b"
      },
      "execution_count": 4,
      "outputs": [
        {
          "output_type": "stream",
          "name": "stderr",
          "text": [
            "/usr/local/lib/python3.10/dist-packages/astropy/io/ascii/html.py:91: XMLParsedAsHTMLWarning: It looks like you're parsing an XML document using an HTML parser. If this really is an HTML document (maybe it's XHTML?), you can ignore or filter this warning. If it's XML, you should know that using an XML parser will be more reliable. To parse this document as XML, make sure you have the lxml package installed, and pass the keyword argument `features=\"xml\"` into the BeautifulSoup constructor.\n",
            "  soup = BeautifulSoup(\"\\n\".join(lines))\n"
          ]
        },
        {
          "output_type": "stream",
          "name": "stdout",
          "text": [
            "  col1     col2    col3   col4    col5    col6  col7  col8  col9  col10    col11  \n",
            "-------- ------- ------- ------ -------- ----- ----- ----- ----- -------- --------\n",
            " SN1972E  314.84   30.08 0.0023    N5253    16 2.839 2.399 0.033 204.9697 -31.6692\n",
            " SN1980N 240.161 -56.689 0.0056    N1316     9 3.225  3.14 0.043  50.6753 -37.2074\n",
            " SN1981B  292.97  64.743 0.0072    N4536     2 3.334 3.077 0.041 188.6233   2.1995\n",
            " SN1981D 240.161 -56.689 0.0056    N1316     9 3.225 3.044 0.055  50.6753 -37.2074\n",
            " SN1986G 309.543  19.401 0.0027    N5128    26 2.908  2.44 0.035 201.4028 -43.0316\n",
            " SN1988U   8.737 -81.227   0.31     Anon    24 4.968 5.096 0.072   3.5756 -30.4164\n",
            " SN1989B 241.991  64.403 0.0036    N3627    37 3.033 2.844  0.03 170.0578  12.9718\n",
            " SN1990N 294.369  75.987 0.0044    N4639    21  3.12 3.204 0.035 190.7367  13.2566\n",
            " SN1990O  37.654   28.36 0.0307 M+034403    10 3.964 3.977 0.025 258.8999  16.3241\n",
            " SN1990T 341.503 -31.526   0.04   P63925    10 4.079 4.101 0.042 299.7601 -56.2583\n",
            "     ...     ...     ...    ...      ...   ...   ...   ...   ...      ...      ...\n",
            "SN2000cx 136.506 -52.482  0.007    N0524 11:19 3.322  3.32 0.023  21.1926    9.509\n",
            "SN2000dk 126.834 -30.344 0.0164    N0382    11 3.692 3.677 0.023  16.8483  32.4068\n",
            "SN2000dz  84.367  -56.39    0.5     Anon    13 5.176 5.352 0.053 352.6728   0.3119\n",
            "SN2000ea 167.211 -61.402   0.42     Anon    13   5.1 5.091 0.053  32.4751  -5.4719\n",
            "SN2000ec 166.295 -60.176   0.47     Anon    13 5.149  5.34 0.043  32.8836  -4.2321\n",
            "SN2000ee 166.045 -53.429   0.47     Anon    13 5.149 5.343 0.041  36.8945   1.1971\n",
            "SN2000eg 167.097 -53.108   0.54     Anon    13 5.209 5.236 0.049  37.5883   1.0639\n",
            "SN2000eh 188.297 -31.651   0.49     Anon    13 5.167 5.224 0.042  63.7604   4.3888\n",
            "SN2000fa 194.167  15.479 0.0218   U03770    11 3.815 3.837 0.026 108.8752  23.4287\n",
            " SN2001V 218.929  77.733 0.0162    N3987    22 3.686 3.662 0.023 179.3542  25.2024\n",
            "Length = 230 rows\n"
          ]
        }
      ]
    },
    {
      "cell_type": "code",
      "source": [
        "distance = 10**dat[\"col8\"] / 72.0 * u.mpc #taking the information from the the log(d*Ho) (col8) to find the distance in mpc. first, take it out of log for with  10**, then divide it by 72 (huble constant)\n",
        "velocity = 10**dat[\"col7\"] * u.km / u.s #putting the receding velocity from the log form (col7) to the 10 to take it out of log form"
      ],
      "metadata": {
        "id": "wJp5m40AaO-W"
      },
      "execution_count": 5,
      "outputs": []
    },
    {
      "cell_type": "code",
      "source": [
        "plt.plot(distance.to(u.mpc).value, velocity.to(u.km / u.s).value, marker=\".\", color=\"black\", linestyle=\"none\") #plotting the velocity over the distance\n",
        "plt.xlim(0, 700) #limiting the data so we only have distance values from 0-700. This only uses a more \"local\" portion of the univese. Using further out values would result in a different slope, indicating the existance of cosmic acceleration.\n",
        "plt.ylim(0, 4e4) #limiting the data so we only have velocities between 0-4e4. Same reason as above.\n",
        "plt.xlabel(\"Distance [Mpc]\")\n",
        "plt.ylabel(\"Velocity [km/s]\")"
      ],
      "metadata": {
        "colab": {
          "base_uri": "https://localhost:8080/",
          "height": 473
        },
        "id": "BGNJ4NbrZaHK",
        "outputId": "4e71391e-d625-452a-8682-ef1228a44d91"
      },
      "execution_count": 6,
      "outputs": [
        {
          "output_type": "execute_result",
          "data": {
            "text/plain": [
              "Text(0, 0.5, 'Velocity [km/s]')"
            ]
          },
          "metadata": {},
          "execution_count": 6
        },
        {
          "output_type": "display_data",
          "data": {
            "text/plain": [
              "<Figure size 640x480 with 1 Axes>"
            ],
            "image/png": "[encoded data removed]"
          },
          "metadata": {}
        }
      ]
    },
    {
      "cell_type": "code",
      "source": [
        "x = distance.to(u.mpc).value #redefining the distance to make it shorter\n",
        "ind = np.where((x > 0) & (x < 700)) #setting perameters for what distance values the data should be between\n",
        "z = np.polyfit(distance.to(u.mpc).value[ind], velocity.to(u.km / u.s).value[ind], 1) #calculating the line of best fit for our velocity vs time graph within the parameters we have set\n",
        "print (\"Slope: Age of the Universe = \", z ) #visualizing this value. it is not in polynomial form, so we must next convert it so it can be graphed"
      ],
      "metadata": {
        "colab": {
          "base_uri": "https://localhost:8080/"
        },
        "id": "SflCiJZWf2qF",
        "outputId": "1c796730-9565-491c-eac0-6ba82e80d513"
      },
      "execution_count": 7,
      "outputs": [
        {
          "output_type": "stream",
          "name": "stdout",
          "text": [
            "Slope: Age of the Universe =  [ 67.48137251 355.24954906]\n"
          ]
        }
      ]
    },
    {
      "cell_type": "code",
      "source": [
        "p = np.poly1d(z) #turns our values into a polynomial, where before it was just 2 numbers\n",
        "velocity_model = p(distance.to(u.mpc).value) #making that function actual plotable values"
      ],
      "metadata": {
        "id": "_7HibFFkf2WZ"
      },
      "execution_count": 8,
      "outputs": []
    },
    {
      "cell_type": "code",
      "source": [
        "plt.plot(distance.to(u.mpc).value, velocity_model, color=\"grey\", linewidth=2)\n",
        "plt.plot(distance.to(u.mpc).value, velocity.to(u.km / u.s).value, marker=\".\", color=\"black\", linestyle=\"none\")\n",
        "plt.xlim(0, 700)\n",
        "plt.ylim(0, 4e4)\n",
        "plt.xlabel(\"Distance [Mpc]\")\n",
        "plt.ylabel(\"Velocity [km/s]\")\n",
        "plt.annotate(r\"$H_0$ = {0:5.2f} km/s/Mpc\".format(z[0]), xy=(50, 30000)) #listing our slope value on the graph"
      ],
      "metadata": {
        "colab": {
          "base_uri": "https://localhost:8080/",
          "height": 473
        },
        "id": "VL7wAvTyf2yC",
        "outputId": "81677dd2-6daa-4bc0-9776-72b1bd6e874b"
      },
      "execution_count": 9,
      "outputs": [
        {
          "output_type": "execute_result",
          "data": {
            "text/plain": [
              "Text(50, 30000, '$H_0$ = 67.48 km/s/Mpc')"
            ]
          },
          "metadata": {},
          "execution_count": 9
        },
        {
          "output_type": "display_data",
          "data": {
            "text/plain": [
              "<Figure size 640x480 with 1 Axes>"
            ],
            "image/png": "[encoded data removed]"
          },
          "metadata": {}
        }
      ]
    },
    {
      "cell_type": "code",
      "source": [
        "d= (1 * u.Mpc) #calculating the age of the universe using our slope value for the Hubble Constant\n",
        "v= (67.48 * u.km / u.s).to(u.Mpc / u.s)\n",
        "t=(d/v).to(u.Gyr)\n",
        "print(t)"
      ],
      "metadata": {
        "colab": {
          "base_uri": "https://localhost:8080/"
        },
        "id": "qkecORdmjMH0",
        "outputId": "f0d903f0-3380-4755-fbad-0eb70b21c7a0"
      },
      "execution_count": 10,
      "outputs": [
        {
          "output_type": "stream",
          "name": "stdout",
          "text": [
            "14.49010405573191 Gyr\n"
          ]
        }
      ]
    },
    {
      "cell_type": "code",
      "source": [
        "# prompt: calculate the reduced chi-squared for the graph x^2/v\n",
        "#use google Gemini to Calculate the reduced chi squared\n",
        "\n",
        "residuals = velocity.to(u.km / u.s).value - velocity_model #the observed value minus expected values. We expect for it to follow the model variable, but the first thing is the actual velocity values\n",
        "variance = np.var(residuals) #finds the variance amoung our data points\n",
        "chi_squared = np.sum((residuals**2) / variance) #calculating the\n",
        "dof = len(residuals) - 2  # Degrees of freedom (number of data points - number of fitted parameters) ; our two parameters are velocity and distance\n",
        "reduced_chi_squared = chi_squared / dof #calculating the reduced chi squared using the values we found\n",
        "\n",
        "print(\"Reduced Chi-Squared:\", reduced_chi_squared)\n"
      ],
      "metadata": {
        "colab": {
          "base_uri": "https://localhost:8080/"
        },
        "id": "9MpPbWz6FhR2",
        "outputId": "acbc2b13-4c0c-4c76-af91-8f8958cd3db7"
      },
      "execution_count": 13,
      "outputs": [
        {
          "output_type": "stream",
          "name": "stdout",
          "text": [
            "Reduced Chi-Squared: 1.2355095026105012\n"
          ]
        }
      ]
    }
  ]
}