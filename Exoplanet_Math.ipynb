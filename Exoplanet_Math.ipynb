{
  "nbformat": 4,
  "nbformat_minor": 0,
  "metadata": {
    "colab": {
      "provenance": [],
      "authorship_tag": "ABX9TyNg0JzGQQtHMwRDSVbZwm3x",
      "include_colab_link": true
    },
    "kernelspec": {
      "name": "python3",
      "display_name": "Python 3"
    },
    "language_info": {
      "name": "python"
    }
  },
  "cells": [
    {
      "cell_type": "markdown",
      "metadata": {
        "id": "view-in-github",
        "colab_type": "text"
      },
      "source": [
        "<a href=\"https://colab.research.google.com/github/MRamsey28/Astro1221/blob/main/Exoplanet_Math.ipynb\" target=\"_parent\"><img src=\"https://colab.research.google.com/assets/colab-badge.svg\" alt=\"Open In Colab\"/></a>"
      ]
    },
    {
      "cell_type": "markdown",
      "source": [
        "Age, structure, life, mass, size (telss about structure), chemical composition (tells about life)"
      ],
      "metadata": {
        "id": "u0VPzBk-4dBf"
      }
    },
    {
      "cell_type": "markdown",
      "source": [
        "$\\ delta = (\\frac{R_{planet}}{R_{star}})^2$, to solve for $\\ R_{planet} = \\sqrt{delta} * R_{star}$"
      ],
      "metadata": {
        "id": "PjB5s3Bn5nr0"
      }
    },
    {
      "cell_type": "code",
      "source": [
        "import astropy.units as u #importing packages that will help us perform the code\n",
        "import numpy as np\n",
        "import astropy.constants as c"
      ],
      "metadata": {
        "id": "HQMj2iHD5nK9"
      },
      "execution_count": 1,
      "outputs": []
    },
    {
      "cell_type": "code",
      "execution_count": 2,
      "metadata": {
        "colab": {
          "base_uri": "https://localhost:8080/"
        },
        "id": "wc-dTTAD3QnZ",
        "outputId": "96a60df2-e7aa-4f17-cf2f-b1f1ab7fc763"
      },
      "outputs": [
        {
          "output_type": "stream",
          "name": "stdout",
          "text": [
            "8.40502e-05\n"
          ]
        }
      ],
      "source": [
        "deltaES = (u.earthRad / u.solRad)**2 #solving for delta using the radius of the earth and sun\n",
        "print(deltaES.decompose()) #decompose cancels out the units, tells it to cancel out the earth and sol from the math"
      ]
    },
    {
      "cell_type": "code",
      "source": [
        "deltaJS = (u.jupiterRad / u.solRad)**2 #doing the same thing as before but with jupiter\n",
        "print(deltaJS.decompose()) #flux drop"
      ],
      "metadata": {
        "colab": {
          "base_uri": "https://localhost:8080/"
        },
        "id": "5qeAa6V06bZo",
        "outputId": "ee2d9c77-b286-493b-e321-abc3ae9baea2"
      },
      "execution_count": 8,
      "outputs": [
        {
          "output_type": "stream",
          "name": "stdout",
          "text": [
            "0.0105602\n"
          ]
        }
      ]
    },
    {
      "cell_type": "markdown",
      "source": [
        "$v_{orb} = (\\sqrt{\\frac{{G}{M}}{a}})$"
      ],
      "metadata": {
        "id": "bi9l8QsT8mgH"
      }
    },
    {
      "cell_type": "code",
      "source": [
        "v_orb_E = np.sqrt(c.G * u.solMass / u.AU) #calculatine the velocity of the earths orbit\n",
        "print(v_orb_E.to(u.m/u.s))"
      ],
      "metadata": {
        "colab": {
          "base_uri": "https://localhost:8080/"
        },
        "id": "SONvIht3808I",
        "outputId": "003a9833-4e5a-4f98-9ce0-1b43f406ee10"
      },
      "execution_count": 9,
      "outputs": [
        {
          "output_type": "stream",
          "name": "stdout",
          "text": [
            "29784.691829676933 m / s\n"
          ]
        }
      ]
    },
    {
      "cell_type": "markdown",
      "source": [
        "since $M_P V_P = M_s V_s = \\frac{M_p}{M_s} * V_{orb} $"
      ],
      "metadata": {
        "id": "SXsvJ1r49Q2e"
      }
    },
    {
      "cell_type": "code",
      "source": [
        "v_sun = u.earthMass / u.solMass * v_orb_E #calculating the velocity of the sun\n",
        "print(v_sun.to(u.m/u.s))"
      ],
      "metadata": {
        "colab": {
          "base_uri": "https://localhost:8080/"
        },
        "id": "0TEMwyY-9px8",
        "outputId": "4622eb99-f491-4578-ce23-e172536d7e2a"
      },
      "execution_count": 10,
      "outputs": [
        {
          "output_type": "stream",
          "name": "stdout",
          "text": [
            "0.08945800466923791 m / s\n"
          ]
        }
      ]
    },
    {
      "cell_type": "markdown",
      "source": [
        "$ V_{star} = 0.09 m/s (\\frac{M_p}{M_e}) (\\frac{T}{1yr})^{-1/3}$"
      ],
      "metadata": {
        "id": "24xXBpxS9pX_"
      }
    },
    {
      "cell_type": "code",
      "source": [
        "v_s_jupiter = 0.09 *u.m/u.s * (u.jupiterMass / u.earthMass) * (11.9 * u.yr/ u.yr)**(-1/3) #velocity of jupiters orbit\n",
        "print(v_s_jupiter.to(u.m/u.s))"
      ],
      "metadata": {
        "colab": {
          "base_uri": "https://localhost:8080/"
        },
        "id": "siOoECvJCGM8",
        "outputId": "b97d7c71-3606-44f3-95c1-c4a5438e0ff2"
      },
      "execution_count": 11,
      "outputs": [
        {
          "output_type": "stream",
          "name": "stdout",
          "text": [
            "12.529091077198903 m / s\n"
          ]
        }
      ]
    },
    {
      "cell_type": "code",
      "source": [
        "(u.jupiterMass / u.earthMass).decompose() #ratio of jupter to earth (jupiter is 317 earths)"
      ],
      "metadata": {
        "colab": {
          "base_uri": "https://localhost:8080/",
          "height": 38
        },
        "id": "5nrMIgc6Cju4",
        "outputId": "e8e455bf-ec40-4356-8224-1c6a2451d782"
      },
      "execution_count": 17,
      "outputs": [
        {
          "output_type": "execute_result",
          "data": {
            "text/plain": [
              "Unit(dimensionless with a scale of 317.8284065946748)"
            ],
            "text/latex": "$\\mathrm{317.82841}$"
          },
          "metadata": {},
          "execution_count": 17
        }
      ]
    },
    {
      "cell_type": "code",
      "source": [
        "rho_earth = u.earthMass / (4 * np.pi * u.earthRad **3 / 3)\n",
        "print(rho_earth.to(u.g/ u.cm**3)) #earths density is between rock and iron, telling us its made of both rock and iron: this is how we find the structure"
      ],
      "metadata": {
        "colab": {
          "base_uri": "https://localhost:8080/"
        },
        "id": "2xdXUt47DDF5",
        "outputId": "63d36e3d-51fc-4d64-8507-f2ec5c526c2f"
      },
      "execution_count": 18,
      "outputs": [
        {
          "output_type": "stream",
          "name": "stdout",
          "text": [
            "5.495021865555213 g / cm3\n"
          ]
        }
      ]
    }
  ]
}